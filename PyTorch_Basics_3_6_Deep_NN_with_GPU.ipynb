{
  "metadata": {
    "kernelspec": {
      "language": "python",
      "display_name": "Python 3",
      "name": "python3"
    },
    "language_info": {
      "name": "python",
      "version": "3.11.11",
      "mimetype": "text/x-python",
      "codemirror_mode": {
        "name": "ipython",
        "version": 3
      },
      "pygments_lexer": "ipython3",
      "nbconvert_exporter": "python",
      "file_extension": ".py"
    },
    "kaggle": {
      "accelerator": "none",
      "dataSources": [],
      "dockerImageVersionId": 31040,
      "isInternetEnabled": true,
      "language": "python",
      "sourceType": "notebook",
      "isGpuEnabled": false
    },
    "colab": {
      "name": "PyTorch Basics 3/6 : Deep NN with GPU",
      "provenance": [],
      "include_colab_link": true
    }
  },
  "nbformat_minor": 0,
  "nbformat": 4,
  "cells": [
    {
      "cell_type": "markdown",
      "metadata": {
        "id": "view-in-github",
        "colab_type": "text"
      },
      "source": [
        "<a href=\"https://colab.research.google.com/github/emmab-collab/PyTorch/blob/main/PyTorch_Basics_3_6_Deep_NN_with_GPU.ipynb\" target=\"_parent\"><img src=\"https://colab.research.google.com/assets/colab-badge.svg\" alt=\"Open In Colab\"/></a>"
      ]
    },
    {
      "cell_type": "code",
      "source": [
        "import torch\n",
        "import numpy as np\n",
        "import torchvision\n",
        "from torchvision.datasets import MNIST\n",
        "from torchvision.transforms import ToTensor\n",
        "from torch.utils.data.sampler import SubsetRandomSampler\n",
        "from torch.utils.data.dataloader import DataLoader\n",
        "\n",
        "np.random.seed(42)"
      ],
      "metadata": {
        "_uuid": "8f2839f25d086af736a60e9eeb907d3b93b6e0e5",
        "_cell_guid": "b1076dfc-b9ad-4769-8c92-a6c4dae69d19",
        "trusted": true,
        "execution": {
          "iopub.status.busy": "2025-05-26T07:11:52.56731Z",
          "iopub.execute_input": "2025-05-26T07:11:52.567809Z",
          "iopub.status.idle": "2025-05-26T07:11:52.571708Z",
          "shell.execute_reply.started": "2025-05-26T07:11:52.567766Z",
          "shell.execute_reply": "2025-05-26T07:11:52.571143Z"
        },
        "id": "PP_CTweTvuaR"
      },
      "outputs": [],
      "execution_count": null
    },
    {
      "cell_type": "markdown",
      "source": [
        "# **1. Preparing the data**"
      ],
      "metadata": {
        "id": "4aAdH-U7vuaV"
      }
    },
    {
      "cell_type": "code",
      "source": [
        "dataset=MNIST(root='data/',\n",
        "              download=True,\n",
        "             transform=ToTensor())"
      ],
      "metadata": {
        "trusted": true,
        "execution": {
          "iopub.status.busy": "2025-05-26T07:12:11.168633Z",
          "iopub.execute_input": "2025-05-26T07:12:11.169179Z",
          "iopub.status.idle": "2025-05-26T07:12:11.252962Z",
          "shell.execute_reply.started": "2025-05-26T07:12:11.169156Z",
          "shell.execute_reply": "2025-05-26T07:12:11.252355Z"
        },
        "id": "uFblaVORvuaY"
      },
      "outputs": [],
      "execution_count": null
    },
    {
      "cell_type": "code",
      "source": [
        "img,label=dataset[0]\n",
        "img.shape,label"
      ],
      "metadata": {
        "trusted": true,
        "execution": {
          "iopub.status.busy": "2025-05-26T07:14:43.057737Z",
          "iopub.execute_input": "2025-05-26T07:14:43.058437Z",
          "iopub.status.idle": "2025-05-26T07:14:43.075095Z",
          "shell.execute_reply.started": "2025-05-26T07:14:43.058413Z",
          "shell.execute_reply": "2025-05-26T07:14:43.074498Z"
        },
        "id": "kd4R-sNlvuab",
        "outputId": "ab764258-702c-4af8-f07a-2b16f1eafd96"
      },
      "outputs": [
        {
          "execution_count": 8,
          "output_type": "execute_result",
          "data": {
            "text/plain": "(torch.Size([1, 28, 28]), 5)"
          },
          "metadata": {}
        }
      ],
      "execution_count": null
    },
    {
      "cell_type": "code",
      "source": [
        "import matplotlib.pyplot as plt\n",
        "%matplotlib inline\n",
        "plt.imshow(img[0])"
      ],
      "metadata": {
        "trusted": true,
        "execution": {
          "iopub.status.busy": "2025-05-26T07:15:28.861031Z",
          "iopub.execute_input": "2025-05-26T07:15:28.86127Z",
          "iopub.status.idle": "2025-05-26T07:15:29.027653Z",
          "shell.execute_reply.started": "2025-05-26T07:15:28.861254Z",
          "shell.execute_reply": "2025-05-26T07:15:29.026865Z"
        },
        "id": "f0gPBVvsvuac",
        "outputId": "1a8b47c9-5ae4-45ea-cd8e-1c84a89536f2"
      },
      "outputs": [
        {
          "execution_count": 11,
          "output_type": "execute_result",
          "data": {
            "text/plain": "<matplotlib.image.AxesImage at 0x7fa613e46910>"
          },
          "metadata": {}
        },
        {
          "output_type": "display_data",
          "data": {
            "text/plain": "<Figure size 640x480 with 1 Axes>",
            "image/png": "[encoded data removed]"
          },
          "metadata": {}
        }
      ],
      "execution_count": null
    },
    {
      "cell_type": "code",
      "source": [
        "def split_indices(n,val_pct):\n",
        "    n_val=int(val_pct*n)\n",
        "    idxs=np.random.permutation(n)\n",
        "    return idxs[n_val:],idxs[:n_val]"
      ],
      "metadata": {
        "trusted": true,
        "execution": {
          "iopub.status.busy": "2025-05-26T07:17:13.491354Z",
          "iopub.execute_input": "2025-05-26T07:17:13.492051Z",
          "iopub.status.idle": "2025-05-26T07:17:13.495689Z",
          "shell.execute_reply.started": "2025-05-26T07:17:13.49203Z",
          "shell.execute_reply": "2025-05-26T07:17:13.494983Z"
        },
        "id": "xyQ445Fjvuaf"
      },
      "outputs": [],
      "execution_count": null
    },
    {
      "cell_type": "code",
      "source": [
        "train_indices,val_indices=split_indices(len(dataset),val_pct=0.2)\n",
        "print(len(train_indices),len(val_indices))\n",
        "print('Sample val indices :',val_indices[:20])"
      ],
      "metadata": {
        "trusted": true,
        "execution": {
          "iopub.status.busy": "2025-05-26T07:17:22.166447Z",
          "iopub.execute_input": "2025-05-26T07:17:22.166711Z",
          "iopub.status.idle": "2025-05-26T07:17:22.173188Z",
          "shell.execute_reply.started": "2025-05-26T07:17:22.166694Z",
          "shell.execute_reply": "2025-05-26T07:17:22.172647Z"
        },
        "id": "xFyIMeHrvuag",
        "outputId": "127da963-1968-4b21-9bfb-e3ed5455eb5b"
      },
      "outputs": [
        {
          "name": "stdout",
          "text": "48000 12000\nSample val indices : [12628 37730 39991  8525  8279 51012 14871 15127  9366 33322 53390 21819\n  5026 23428 45297 26354 30195 47038 20731 34047]\n",
          "output_type": "stream"
        }
      ],
      "execution_count": null
    },
    {
      "cell_type": "code",
      "source": [
        "batch_size=100\n",
        "\n",
        "train_sampler=SubsetRandomSampler(train_indices)\n",
        "train_dl=DataLoader(dataset,\n",
        "                       batch_size,\n",
        "                       sampler=train_sampler)\n",
        "\n",
        "val_sampler=SubsetRandomSampler(val_indices)\n",
        "val_dl=DataLoader(dataset,\n",
        "                     batch_size,\n",
        "                     sampler=val_sampler)"
      ],
      "metadata": {
        "trusted": true,
        "execution": {
          "iopub.status.busy": "2025-05-26T07:19:15.118973Z",
          "iopub.execute_input": "2025-05-26T07:19:15.11924Z",
          "iopub.status.idle": "2025-05-26T07:19:15.123465Z",
          "shell.execute_reply.started": "2025-05-26T07:19:15.119223Z",
          "shell.execute_reply": "2025-05-26T07:19:15.122699Z"
        },
        "id": "0TjJn3c1vuai"
      },
      "outputs": [],
      "execution_count": null
    },
    {
      "cell_type": "markdown",
      "source": [
        "# **2. Model**"
      ],
      "metadata": {
        "id": "cVA3o4-vvuak"
      }
    },
    {
      "cell_type": "markdown",
      "source": [
        "## **1. Création du modèle**"
      ],
      "metadata": {
        "id": "EwZC8s14vuaz"
      }
    },
    {
      "cell_type": "code",
      "source": [
        "import torch.nn as nn #neural_network_package\n",
        "import torch.nn.functional as F #softmax, cross_entropy"
      ],
      "metadata": {
        "trusted": true,
        "execution": {
          "iopub.status.busy": "2025-05-26T07:36:11.02127Z",
          "iopub.execute_input": "2025-05-26T07:36:11.022004Z",
          "iopub.status.idle": "2025-05-26T07:36:11.025533Z",
          "shell.execute_reply.started": "2025-05-26T07:36:11.021973Z",
          "shell.execute_reply": "2025-05-26T07:36:11.024833Z"
        },
        "id": "Lpg58EjSvua1"
      },
      "outputs": [],
      "execution_count": null
    },
    {
      "cell_type": "code",
      "source": [
        "class MnistModel(nn.Module): #une classe de modèle\n",
        "    def __init__(self,in_size,hidden_size,out_size):\n",
        "        super().__init__() #superconstructeur de la classe mère\n",
        "        self.linear1=nn.Linear(in_size,hidden_size)\n",
        "        self.linear2=nn.Linear(hidden_size,out_size)\n",
        "\n",
        "    def forward(self,xb):\n",
        "        xb=xb.reshape(xb.size(0),-1) #xb est un batch of input\n",
        "        out=self.linear1(xb)\n",
        "        out=F.relu(out)\n",
        "        out=self.linear2(out)\n",
        "        return out"
      ],
      "metadata": {
        "trusted": true,
        "execution": {
          "iopub.status.busy": "2025-05-26T07:47:00.345363Z",
          "iopub.execute_input": "2025-05-26T07:47:00.345596Z",
          "iopub.status.idle": "2025-05-26T07:47:00.350464Z",
          "shell.execute_reply.started": "2025-05-26T07:47:00.345581Z",
          "shell.execute_reply": "2025-05-26T07:47:00.34968Z"
        },
        "id": "wbK06xacvua3"
      },
      "outputs": [],
      "execution_count": null
    },
    {
      "cell_type": "code",
      "source": [
        "input_size=784\n",
        "num_classes=10\n",
        "model=MnistModel(input_size,hidden_size=32,out_size=num_classes) #on crée un modèle de la classe MnistModel"
      ],
      "metadata": {
        "trusted": true,
        "execution": {
          "iopub.status.busy": "2025-05-26T07:41:22.495608Z",
          "iopub.execute_input": "2025-05-26T07:41:22.495885Z",
          "iopub.status.idle": "2025-05-26T07:41:22.500373Z",
          "shell.execute_reply.started": "2025-05-26T07:41:22.495866Z",
          "shell.execute_reply": "2025-05-26T07:41:22.499834Z"
        },
        "id": "nm0CTCIcvua4"
      },
      "outputs": [],
      "execution_count": null
    },
    {
      "cell_type": "code",
      "source": [
        "for t in model.parameters():\n",
        "    print(t.shape)"
      ],
      "metadata": {
        "trusted": true,
        "execution": {
          "iopub.status.busy": "2025-05-26T07:41:24.387058Z",
          "iopub.execute_input": "2025-05-26T07:41:24.387674Z",
          "iopub.status.idle": "2025-05-26T07:41:24.391668Z",
          "shell.execute_reply.started": "2025-05-26T07:41:24.387656Z",
          "shell.execute_reply": "2025-05-26T07:41:24.390737Z"
        },
        "id": "Sc1uTebQvua6",
        "outputId": "53805ffe-d86b-477b-8563-c700fe2b857c"
      },
      "outputs": [
        {
          "name": "stdout",
          "text": "torch.Size([32, 784])\ntorch.Size([32])\ntorch.Size([10, 32])\ntorch.Size([10])\n",
          "output_type": "stream"
        }
      ],
      "execution_count": null
    },
    {
      "cell_type": "code",
      "source": [
        "for images,labels in train_dl:\n",
        "    print('images.shape: ', images.shape)\n",
        "    outputs=model(images)\n",
        "    loss=F.cross_entropy(outputs,labels)\n",
        "    print('Loss:',loss.item())\n",
        "    break\n",
        "print('outputs.shape: ',outputs.shape)\n",
        "print('Sample outputs :\\n',outputs[:2].data)"
      ],
      "metadata": {
        "trusted": true,
        "id": "YvjyGaQmvua8"
      },
      "outputs": [],
      "execution_count": null
    },
    {
      "cell_type": "markdown",
      "source": [
        "## **2. Using a GPU**\n",
        "\n",
        "En PyTorch, ``device`` fait référence à **l’endroit où les tenseurs sont stockés** et où les opérations sont effectuées : soit sur le **CPU**, soit sur un **GPU** (s’il est disponible).\n",
        "\n",
        "We can check if a GPU is available and the required NVIDA CUDA drivers are installed, using ``torch.cuda.is_available``\n",
        "\n",
        "Then, we define a helper function ``get_default_device()`` to ensure that our code uses the GPU if available and defaults to using the CPU if it isn't.\n",
        "\n",
        "Then we define a fonction that can move data and model to a chosen device : ``to_device(data,device)``\n",
        "\n",
        "Finally we define a ``DeviceDataLoader`` class to wrap our existing data loaders and move data to the delected device."
      ],
      "metadata": {
        "id": "k1VNbqu6vua9"
      }
    },
    {
      "cell_type": "code",
      "source": [
        "torch.cuda.is_available()"
      ],
      "metadata": {
        "trusted": true,
        "execution": {
          "iopub.status.busy": "2025-05-26T07:49:08.747995Z",
          "iopub.execute_input": "2025-05-26T07:49:08.748558Z",
          "iopub.status.idle": "2025-05-26T07:49:08.813976Z",
          "shell.execute_reply.started": "2025-05-26T07:49:08.748537Z",
          "shell.execute_reply": "2025-05-26T07:49:08.813378Z"
        },
        "id": "jwRGfXKEvua-",
        "outputId": "f80b1ea8-5296-4595-e2a7-4e12ace87fc9"
      },
      "outputs": [
        {
          "execution_count": 41,
          "output_type": "execute_result",
          "data": {
            "text/plain": "True"
          },
          "metadata": {}
        }
      ],
      "execution_count": null
    },
    {
      "cell_type": "code",
      "source": [
        "def get_default_device():\n",
        "    if torch.cuda.is_available():\n",
        "        return torch.device('cuda')\n",
        "    else:\n",
        "        return torch.device('cpu')"
      ],
      "metadata": {
        "trusted": true,
        "execution": {
          "iopub.status.busy": "2025-05-26T07:50:19.043007Z",
          "iopub.execute_input": "2025-05-26T07:50:19.043269Z",
          "iopub.status.idle": "2025-05-26T07:50:19.047138Z",
          "shell.execute_reply.started": "2025-05-26T07:50:19.043251Z",
          "shell.execute_reply": "2025-05-26T07:50:19.046493Z"
        },
        "id": "Netjg5Lrvua_"
      },
      "outputs": [],
      "execution_count": null
    },
    {
      "cell_type": "code",
      "source": [
        "device=get_default_device()\n",
        "device"
      ],
      "metadata": {
        "trusted": true,
        "execution": {
          "iopub.status.busy": "2025-05-26T07:50:23.118588Z",
          "iopub.execute_input": "2025-05-26T07:50:23.118878Z",
          "iopub.status.idle": "2025-05-26T07:50:23.123953Z",
          "shell.execute_reply.started": "2025-05-26T07:50:23.118859Z",
          "shell.execute_reply": "2025-05-26T07:50:23.123164Z"
        },
        "id": "bjnVRZnuvubA",
        "outputId": "3d00c6a8-32c8-4e27-b71e-d295e52d5b1a"
      },
      "outputs": [
        {
          "execution_count": 43,
          "output_type": "execute_result",
          "data": {
            "text/plain": "device(type='cuda')"
          },
          "metadata": {}
        }
      ],
      "execution_count": null
    },
    {
      "cell_type": "code",
      "source": [
        "def to_device(data,device):\n",
        "    if isinstance(data,(list,tuple)): #si notre dataset est une liste ou tuple\n",
        "        return [to_device(x,device)for x in data]\n",
        "    return data.to(device,non_blocking=True)"
      ],
      "metadata": {
        "trusted": true,
        "execution": {
          "iopub.status.busy": "2025-05-26T07:52:09.657859Z",
          "iopub.execute_input": "2025-05-26T07:52:09.658374Z",
          "iopub.status.idle": "2025-05-26T07:52:09.66241Z",
          "shell.execute_reply.started": "2025-05-26T07:52:09.658353Z",
          "shell.execute_reply": "2025-05-26T07:52:09.661671Z"
        },
        "id": "NTFl2rgsvubA"
      },
      "outputs": [],
      "execution_count": null
    },
    {
      "cell_type": "code",
      "source": [
        "for images, labels in train_dl:\n",
        "    print(images.shape)\n",
        "    images=to_device(images,device)\n",
        "    print(images.device)\n",
        "    break"
      ],
      "metadata": {
        "trusted": true,
        "execution": {
          "iopub.status.busy": "2025-05-26T07:53:12.062149Z",
          "iopub.execute_input": "2025-05-26T07:53:12.062414Z",
          "iopub.status.idle": "2025-05-26T07:53:12.326199Z",
          "shell.execute_reply.started": "2025-05-26T07:53:12.062396Z",
          "shell.execute_reply": "2025-05-26T07:53:12.325411Z"
        },
        "id": "GKavzJ12vubB",
        "outputId": "b1f82f28-8bd2-46b7-8b61-85bb4c92e93f"
      },
      "outputs": [
        {
          "name": "stdout",
          "text": "torch.Size([100, 1, 28, 28])\ncuda:0\n",
          "output_type": "stream"
        }
      ],
      "execution_count": null
    },
    {
      "cell_type": "code",
      "source": [
        "class DeviceDataLoader():\n",
        "    \"\"\"Wrap a dataloader to move data to a device\"\"\"\n",
        "    def __init__(self,dl,device):\n",
        "        self.dl=dl\n",
        "        self.device=device\n",
        "\n",
        "    def __iter__(self):\n",
        "        \"\"\"Yield a batch of data after moving it to device\"\"\"\n",
        "        for b in self.dl:\n",
        "            yield to_device(b,self.device) #ca genere le batch sans repetition\n",
        "\n",
        "    def __len__(self):\n",
        "        \"\"\"Number of batches\"\"\"\n",
        "        return len(self.dl)"
      ],
      "metadata": {
        "trusted": true,
        "execution": {
          "iopub.status.busy": "2025-05-26T08:02:52.411824Z",
          "iopub.execute_input": "2025-05-26T08:02:52.412363Z",
          "iopub.status.idle": "2025-05-26T08:02:52.416413Z",
          "shell.execute_reply.started": "2025-05-26T08:02:52.412342Z",
          "shell.execute_reply": "2025-05-26T08:02:52.415852Z"
        },
        "id": "qACkcXw-vubC"
      },
      "outputs": [],
      "execution_count": null
    },
    {
      "cell_type": "code",
      "source": [
        "train_dl=DeviceDataLoader(train_dl,device)\n",
        "val_dl=DeviceDataLoader(val_dl,device)"
      ],
      "metadata": {
        "trusted": true,
        "execution": {
          "iopub.status.busy": "2025-05-26T08:05:01.877383Z",
          "iopub.execute_input": "2025-05-26T08:05:01.878077Z",
          "iopub.status.idle": "2025-05-26T08:05:01.881385Z",
          "shell.execute_reply.started": "2025-05-26T08:05:01.878053Z",
          "shell.execute_reply": "2025-05-26T08:05:01.880835Z"
        },
        "id": "aRSb47sevubC"
      },
      "outputs": [],
      "execution_count": null
    },
    {
      "cell_type": "code",
      "source": [
        "for xb,yb in val_dl:\n",
        "    print('xb device: ',xb.device)\n",
        "    print('yb',yb)\n",
        "    break"
      ],
      "metadata": {
        "trusted": true,
        "execution": {
          "iopub.status.busy": "2025-05-26T08:05:58.270545Z",
          "iopub.execute_input": "2025-05-26T08:05:58.270831Z",
          "iopub.status.idle": "2025-05-26T08:05:58.303082Z",
          "shell.execute_reply.started": "2025-05-26T08:05:58.270782Z",
          "shell.execute_reply": "2025-05-26T08:05:58.30254Z"
        },
        "id": "gvE55ByjvubD",
        "outputId": "05cc7595-0c73-4dbc-f152-b44d99f509c1"
      },
      "outputs": [
        {
          "name": "stdout",
          "text": "xb device:  cuda:0\nyb tensor([9, 6, 9, 2, 4, 7, 8, 5, 1, 1, 8, 6, 5, 3, 7, 1, 1, 1, 4, 1, 3, 2, 5, 6,\n        6, 4, 7, 5, 8, 1, 4, 9, 6, 0, 1, 4, 3, 7, 8, 0, 4, 1, 1, 6, 0, 2, 1, 9,\n        8, 8, 1, 0, 8, 7, 8, 5, 1, 9, 4, 3, 7, 6, 2, 3, 1, 6, 6, 3, 4, 6, 2, 6,\n        4, 9, 8, 5, 9, 7, 6, 2, 2, 5, 0, 2, 2, 7, 3, 8, 5, 7, 1, 1, 2, 3, 4, 9,\n        0, 8, 4, 7], device='cuda:0')\n",
          "output_type": "stream"
        }
      ],
      "execution_count": null
    },
    {
      "cell_type": "markdown",
      "source": [
        "# **3. Training the model**"
      ],
      "metadata": {
        "id": "1UX8ZAPivubD"
      }
    },
    {
      "cell_type": "markdown",
      "source": [
        "## **1. Loss batch function**"
      ],
      "metadata": {
        "id": "UUydzTYHvubN"
      }
    },
    {
      "cell_type": "markdown",
      "source": [],
      "metadata": {
        "id": "yhUKtO-tvubO"
      }
    },
    {
      "cell_type": "code",
      "source": [
        "def loss_batch(model,loss_func,xb,yb,opt=None,metric=None):\n",
        "    #Calculate loss\n",
        "    preds=model(xb)\n",
        "    loss=loss_func(preds,yb)\n",
        "\n",
        "    if opt is not None:\n",
        "        #Compute gradients\n",
        "        loss.backward()\n",
        "        #Update parameters\n",
        "        opt.step()\n",
        "        #Reset gradients\n",
        "        opt.zero_grad()\n",
        "\n",
        "    metric_result=None\n",
        "    if metric is not None:\n",
        "        #Compute the metric\n",
        "        metric_result=metric(preds,yb)\n",
        "\n",
        "    return loss.item(),len(xb),metric_result"
      ],
      "metadata": {
        "trusted": true,
        "execution": {
          "iopub.status.busy": "2025-05-26T08:18:51.629006Z",
          "iopub.execute_input": "2025-05-26T08:18:51.629266Z",
          "iopub.status.idle": "2025-05-26T08:18:51.633868Z",
          "shell.execute_reply.started": "2025-05-26T08:18:51.629246Z",
          "shell.execute_reply": "2025-05-26T08:18:51.633094Z"
        },
        "id": "uf_5F62xvubO"
      },
      "outputs": [],
      "execution_count": null
    },
    {
      "cell_type": "markdown",
      "source": [
        "## **2. Evaluate function**"
      ],
      "metadata": {
        "id": "LiBG6ElRvubP"
      }
    },
    {
      "cell_type": "code",
      "source": [
        "def evaluate(model,loss_fn,val_dl,metric=None):\n",
        "    with torch.no_grad():\n",
        "        results=[loss_batch(model,loss_fn,xb,yb,metric=metric)\n",
        "                for xb,yb in val_dl]\n",
        "        losses,nums,metrics=zip(*results)\n",
        "        total=np.sum(nums)\n",
        "        avg_loss=np.sum(np.multiply(losses,nums))/total\n",
        "        avg_metric=None\n",
        "        if metric is not None:\n",
        "            avg_metric=np.sum(np.multiply(metrics,nums))/total\n",
        "\n",
        "    return avg_loss,total,avg_metric"
      ],
      "metadata": {
        "trusted": true,
        "execution": {
          "iopub.status.busy": "2025-05-26T08:18:48.579456Z",
          "iopub.execute_input": "2025-05-26T08:18:48.579728Z",
          "iopub.status.idle": "2025-05-26T08:18:48.584769Z",
          "shell.execute_reply.started": "2025-05-26T08:18:48.579709Z",
          "shell.execute_reply": "2025-05-26T08:18:48.584073Z"
        },
        "id": "QDS5ZmZNvubQ"
      },
      "outputs": [],
      "execution_count": null
    },
    {
      "cell_type": "markdown",
      "source": [
        "## **3. Fit function**"
      ],
      "metadata": {
        "id": "vQXykGEhvubR"
      }
    },
    {
      "cell_type": "code",
      "source": [
        "def fit(epochs,lr,model,loss_fn,train_dl,val_dl,metric=None,opt_fn=None):\n",
        "    losses,metrics=[],[]\n",
        "\n",
        "    if opt_fn is None: opt_fn=torch.optim.SGD\n",
        "    opt = opt_fn(model.parameters(), lr=lr)\n",
        "\n",
        "\n",
        "    for epoch in range(epochs):\n",
        "        #Train\n",
        "        for xb,yb in train_dl:\n",
        "            loss,_,_=loss_batch(model,loss_fn,xb,yb,opt)\n",
        "\n",
        "        #Evaluate\n",
        "        result=evaluate(model,loss_fn,val_dl,metric)\n",
        "        val_loss,total,val_metric=result\n",
        "\n",
        "        #Record Loss and metric\n",
        "        losses.append(val_loss)\n",
        "        metrics.append(val_metric)\n",
        "\n",
        "        if metric is None:\n",
        "            print(f'Epoch [{epoch+1}/{epochs}, Loss: {val_loss:.4f}')\n",
        "        else:\n",
        "            print(f'Epoch [{epoch+1}/{epochs}, Loss: {val_loss:.4f}, {metric.__name__} : {val_metric}')\n",
        "\n",
        "    return losses,metrics"
      ],
      "metadata": {
        "trusted": true,
        "execution": {
          "iopub.status.busy": "2025-05-26T08:30:58.227118Z",
          "iopub.execute_input": "2025-05-26T08:30:58.22777Z",
          "iopub.status.idle": "2025-05-26T08:30:58.233222Z",
          "shell.execute_reply.started": "2025-05-26T08:30:58.227749Z",
          "shell.execute_reply": "2025-05-26T08:30:58.232518Z"
        },
        "id": "itBdZckxvubR"
      },
      "outputs": [],
      "execution_count": null
    },
    {
      "cell_type": "markdown",
      "source": [
        "## **4. Accuracy function**"
      ],
      "metadata": {
        "id": "y5uQsh7hvubS"
      }
    },
    {
      "cell_type": "code",
      "source": [
        "def accuracy(outputs,labels):\n",
        "    _,preds=torch.max(outputs,dim=1) #on prend juste l'index du max\n",
        "    return torch.sum(preds==labels).item()/len(preds)"
      ],
      "metadata": {
        "trusted": true,
        "execution": {
          "iopub.status.busy": "2025-05-26T08:20:26.32477Z",
          "iopub.execute_input": "2025-05-26T08:20:26.325304Z",
          "iopub.status.idle": "2025-05-26T08:20:26.328867Z",
          "shell.execute_reply.started": "2025-05-26T08:20:26.325283Z",
          "shell.execute_reply": "2025-05-26T08:20:26.3281Z"
        },
        "id": "nfqUpOGwvubS"
      },
      "outputs": [],
      "execution_count": null
    },
    {
      "cell_type": "code",
      "source": [
        "model=MnistModel(input_size,hidden_size=32,out_size=num_classes)\n",
        "to_device(model,device)"
      ],
      "metadata": {
        "trusted": true,
        "execution": {
          "iopub.status.busy": "2025-05-26T08:21:52.890951Z",
          "iopub.execute_input": "2025-05-26T08:21:52.891422Z",
          "iopub.status.idle": "2025-05-26T08:21:52.900094Z",
          "shell.execute_reply.started": "2025-05-26T08:21:52.8914Z",
          "shell.execute_reply": "2025-05-26T08:21:52.899518Z"
        },
        "id": "ORIkTfLKvubT",
        "outputId": "b86d39e8-a615-4ab6-8e7d-bdc1d17117f7"
      },
      "outputs": [
        {
          "execution_count": 55,
          "output_type": "execute_result",
          "data": {
            "text/plain": "MnistModel(\n  (linear1): Linear(in_features=784, out_features=32, bias=True)\n  (linear2): Linear(in_features=32, out_features=10, bias=True)\n)"
          },
          "metadata": {}
        }
      ],
      "execution_count": null
    },
    {
      "cell_type": "code",
      "source": [
        "val_loss,total,val_acc=evaluate(model,F.cross_entropy,val_dl,metric=accuracy)\n",
        "print(f'Loss : {val_loss:.4f}, Accuracy : {val_acc:.4f}')"
      ],
      "metadata": {
        "trusted": true,
        "execution": {
          "iopub.status.busy": "2025-05-26T08:23:27.108741Z",
          "iopub.execute_input": "2025-05-26T08:23:27.109015Z",
          "iopub.status.idle": "2025-05-26T08:23:28.705091Z",
          "shell.execute_reply.started": "2025-05-26T08:23:27.108997Z",
          "shell.execute_reply": "2025-05-26T08:23:28.704327Z"
        },
        "id": "K1usuZImvubU",
        "outputId": "453b4639-fa93-4ce9-cf9b-a75118704725"
      },
      "outputs": [
        {
          "name": "stdout",
          "text": "Loss : 2.3032, Accuracy : 0.1263\n",
          "output_type": "stream"
        }
      ],
      "execution_count": null
    },
    {
      "cell_type": "code",
      "source": [
        "losses1,metrics1=fit(5,0.5,model,F.cross_entropy,train_dl,val_dl,accuracy)"
      ],
      "metadata": {
        "trusted": true,
        "execution": {
          "iopub.status.busy": "2025-05-26T08:31:02.236495Z",
          "iopub.execute_input": "2025-05-26T08:31:02.237044Z",
          "iopub.status.idle": "2025-05-26T08:31:30.435958Z",
          "shell.execute_reply.started": "2025-05-26T08:31:02.237023Z",
          "shell.execute_reply": "2025-05-26T08:31:30.435266Z"
        },
        "id": "Twn5C6AbvubV",
        "outputId": "5153e7e0-4633-4a72-a5ea-cabf39512184"
      },
      "outputs": [
        {
          "name": "stdout",
          "text": "Epoch [1/5, Loss: 0.2166, accuracy : 0.9318333333333333\nEpoch [2/5, Loss: 0.1641, accuracy : 0.9510833333333333\nEpoch [3/5, Loss: 0.1373, accuracy : 0.9595\nEpoch [4/5, Loss: 0.1305, accuracy : 0.9599166666666666\nEpoch [5/5, Loss: 0.1399, accuracy : 0.96025\n",
          "output_type": "stream"
        }
      ],
      "execution_count": null
    },
    {
      "cell_type": "code",
      "source": [
        "losses2,metrics2=fit(5,0.1,model,F.cross_entropy,train_dl,val_dl,accuracy)"
      ],
      "metadata": {
        "trusted": true,
        "execution": {
          "iopub.status.busy": "2025-05-26T08:32:44.077325Z",
          "iopub.execute_input": "2025-05-26T08:32:44.077968Z",
          "iopub.status.idle": "2025-05-26T08:33:12.944047Z",
          "shell.execute_reply.started": "2025-05-26T08:32:44.077946Z",
          "shell.execute_reply": "2025-05-26T08:33:12.943228Z"
        },
        "id": "K66dFOPTvubV",
        "outputId": "5255610c-c2b6-4b1e-8492-42749baf0eec"
      },
      "outputs": [
        {
          "name": "stdout",
          "text": "Epoch [1/5, Loss: 0.1111, accuracy : 0.96775\nEpoch [2/5, Loss: 0.1086, accuracy : 0.9679166666666666\nEpoch [3/5, Loss: 0.1103, accuracy : 0.9679166666666666\nEpoch [4/5, Loss: 0.1087, accuracy : 0.9688333333333333\nEpoch [5/5, Loss: 0.1088, accuracy : 0.9689166666666666\n",
          "output_type": "stream"
        }
      ],
      "execution_count": null
    },
    {
      "cell_type": "code",
      "source": [
        "import matplotlib.pyplot as plt"
      ],
      "metadata": {
        "trusted": true,
        "execution": {
          "iopub.status.busy": "2025-05-26T08:33:30.215878Z",
          "iopub.execute_input": "2025-05-26T08:33:30.216117Z",
          "iopub.status.idle": "2025-05-26T08:33:30.219837Z",
          "shell.execute_reply.started": "2025-05-26T08:33:30.216103Z",
          "shell.execute_reply": "2025-05-26T08:33:30.219032Z"
        },
        "id": "wbsyQmLXvubW"
      },
      "outputs": [],
      "execution_count": null
    },
    {
      "cell_type": "code",
      "source": [
        "accuracies=[val_acc]+metrics1+metrics2\n",
        "plt.plot(accuracies,'-x')\n",
        "plt.xlabel('epoch')\n",
        "plt.ylabel('accuracy')\n",
        "plt.title('Accuracy vs No. of epochs')"
      ],
      "metadata": {
        "trusted": true,
        "execution": {
          "iopub.status.busy": "2025-05-26T08:34:37.729723Z",
          "iopub.execute_input": "2025-05-26T08:34:37.72999Z",
          "iopub.status.idle": "2025-05-26T08:34:37.900962Z",
          "shell.execute_reply.started": "2025-05-26T08:34:37.729974Z",
          "shell.execute_reply": "2025-05-26T08:34:37.900121Z"
        },
        "id": "_3K5SgiLvubX",
        "outputId": "e090c12d-8f79-4b9c-e616-36fe251f353a"
      },
      "outputs": [
        {
          "execution_count": 63,
          "output_type": "execute_result",
          "data": {
            "text/plain": "Text(0.5, 1.0, 'Accuracy vs No. of epochs')"
          },
          "metadata": {}
        },
        {
          "output_type": "display_data",
          "data": {
            "text/plain": "<Figure size 640x480 with 1 Axes>",
            "image/png": "[encoded data removed]"
          },
          "metadata": {}
        }
      ],
      "execution_count": null
    },
    {
      "cell_type": "code",
      "source": [],
      "metadata": {
        "trusted": true,
        "id": "0wgq2Lc1vubY"
      },
      "outputs": [],
      "execution_count": null
    },
    {
      "cell_type": "code",
      "source": [],
      "metadata": {
        "trusted": true,
        "id": "8XyFQK4evubY"
      },
      "outputs": [],
      "execution_count": null
    },
    {
      "cell_type": "code",
      "source": [],
      "metadata": {
        "trusted": true,
        "id": "XQ2Owj0-vubZ"
      },
      "outputs": [],
      "execution_count": null
    },
    {
      "cell_type": "code",
      "source": [],
      "metadata": {
        "trusted": true,
        "id": "M2kGGeA_vubb"
      },
      "outputs": [],
      "execution_count": null
    },
    {
      "cell_type": "code",
      "source": [],
      "metadata": {
        "trusted": true,
        "id": "GP27w_fLvubc"
      },
      "outputs": [],
      "execution_count": null
    }
  ]
}